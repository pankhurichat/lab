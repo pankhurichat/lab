{
 "cells": [
  {
   "cell_type": "code",
   "execution_count": 35,
   "metadata": {},
   "outputs": [
    {
     "name": "stderr",
     "output_type": "stream",
     "text": [
      "/tmp/ipykernel_96635/2836400169.py:4: DeprecationWarning: Please use `p_roots` from the `scipy.special` namespace, the `scipy.special.orthogonal` namespace is deprecated.\n",
      "  from scipy.special.orthogonal import p_roots\n"
     ]
    }
   ],
   "source": [
    "import numpy as np\n",
    "import scipy as sc\n",
    "import matplotlib.pyplot as plt\n",
    "from scipy.special.orthogonal import p_roots"
   ]
  },
  {
   "cell_type": "code",
   "execution_count": 62,
   "metadata": {},
   "outputs": [],
   "source": [
    "x=np.linspace(-1,1,100000)\n",
    "global k\n",
    "k=(x[-1]-x[0])/len(x)\n",
    "\n",
    "def xn(x,n):\n",
    "    return x**n"
   ]
  },
  {
   "cell_type": "code",
   "execution_count": 63,
   "metadata": {},
   "outputs": [],
   "source": [
    "\n",
    "z= 7 # enter the order of legendre polynomials you wish to generate\n",
    "v=np.zeros((z,100000))\n",
    "for i in range(z):\n",
    "    v[i]=xn(x,i)\n",
    "u=np.zeros((z,100000))\n"
   ]
  },
  {
   "cell_type": "code",
   "execution_count": 64,
   "metadata": {},
   "outputs": [],
   "source": [
    "import scipy.integrate as inte #simpson integration\n",
    "\n",
    "def innerproduct(a,b,k): #where k is the spacing difference between the points\n",
    "    p=a*b\n",
    "    return inte.simpson(y=p,dx=k) "
   ]
  },
  {
   "cell_type": "code",
   "execution_count": 65,
   "metadata": {},
   "outputs": [],
   "source": [
    "def grsm(v,u,n,innerproduct): # the grahm-schmidt method of generation of orthogoal basis\n",
    "    u[0]=v[0]/(innerproduct(v[0],v[0],k) **.5)\n",
    "    for i in range(1,n):\n",
    "        m=v[i]\n",
    "        #print(np.shape(m))\n",
    "        for j in range(i):\n",
    "            m -= innerproduct(v[i],u[j],k)*u[j] \n",
    "            \n",
    "        u[i]=m/(innerproduct(m,m,k)**.5)\n",
    "    return u"
   ]
  },
  {
   "cell_type": "code",
   "execution_count": 66,
   "metadata": {},
   "outputs": [],
   "source": [
    "q=grsm(v,u,z,innerproduct)"
   ]
  },
  {
   "cell_type": "code",
   "execution_count": 67,
   "metadata": {},
   "outputs": [
    {
     "data": {
      "text/plain": [
       "[<matplotlib.lines.Line2D at 0x7f656ca7d240>]"
      ]
     },
     "execution_count": 67,
     "metadata": {},
     "output_type": "execute_result"
    },
    {
     "data": {
      "image/png": "[encoded data removed]",
      "text/plain": [
       "<Figure size 640x480 with 1 Axes>"
      ]
     },
     "metadata": {},
     "output_type": "display_data"
    }
   ],
   "source": [
    "plt.plot(x,q[6])"
   ]
  },
  {
   "cell_type": "code",
   "execution_count": 68,
   "metadata": {},
   "outputs": [],
   "source": [
    "legsix=q[6]"
   ]
  },
  {
   "cell_type": "code",
   "execution_count": 71,
   "metadata": {},
   "outputs": [],
   "source": [
    "a=[]\n",
    "for i in range(len(legsix)):\n",
    "    \n",
    "    if abs(legsix[i]-0)<.0001:\n",
    "        a.append(i)"
   ]
  },
  {
   "cell_type": "code",
   "execution_count": 72,
   "metadata": {},
   "outputs": [
    {
     "name": "stdout",
     "output_type": "stream",
     "text": [
      "6\n"
     ]
    }
   ],
   "source": [
    "print(len(a))"
   ]
  },
  {
   "cell_type": "code",
   "execution_count": 73,
   "metadata": {},
   "outputs": [
    {
     "data": {
      "text/plain": [
       "[16939, 38068, 38069, 61930, 61931, 83060]"
      ]
     },
     "execution_count": 73,
     "metadata": {},
     "output_type": "execute_result"
    }
   ],
   "source": [
    "a"
   ]
  },
  {
   "cell_type": "code",
   "execution_count": 77,
   "metadata": {},
   "outputs": [],
   "source": [
    "x,w=p_roots(3)"
   ]
  },
  {
   "cell_type": "code",
   "execution_count": 78,
   "metadata": {},
   "outputs": [],
   "source": [
    "def fn(x):\n",
    "    return x**2"
   ]
  },
  {
   "cell_type": "code",
   "execution_count": 79,
   "metadata": {},
   "outputs": [],
   "source": [
    "def gquadint(x,w,fn):\n",
    "    k=0\n",
    "    for i in range(len(x)):\n",
    "        k+= w[i]*fn(x[i])\n",
    "    return k\n",
    "\n",
    "\n",
    "    \n"
   ]
  },
  {
   "cell_type": "code",
   "execution_count": 80,
   "metadata": {},
   "outputs": [],
   "source": [
    "m=gquadint(x,w,fn)"
   ]
  },
  {
   "cell_type": "code",
   "execution_count": 84,
   "metadata": {},
   "outputs": [],
   "source": [
    "def transformation(x,w,fn,a,b):\n",
    "    k=0\n",
    "    for i in range(len(x)):\n",
    "        xz=((b-a)*x[i]+(b+a))/2\n",
    "        k+= w[i]*fn(xz)*(b-a)/2\n",
    "    return k\n",
    "    \n"
   ]
  },
  {
   "cell_type": "code",
   "execution_count": 85,
   "metadata": {},
   "outputs": [],
   "source": [
    "p=transformation(x,w,fn,0,3)"
   ]
  },
  {
   "cell_type": "code",
   "execution_count": 86,
   "metadata": {},
   "outputs": [
    {
     "data": {
      "text/plain": [
       "9.000000000000002"
      ]
     },
     "execution_count": 86,
     "metadata": {},
     "output_type": "execute_result"
    }
   ],
   "source": [
    "p"
   ]
  }
 ],
 "metadata": {
  "kernelspec": {
   "display_name": "Python 3 (ipykernel)",
   "language": "python",
   "name": "python3"
  },
  "language_info": {
   "codemirror_mode": {
    "name": "ipython",
    "version": 3
   },
   "file_extension": ".py",
   "mimetype": "text/x-python",
   "name": "python",
   "nbconvert_exporter": "python",
   "pygments_lexer": "ipython3",
   "version": "3.9.12"
  },
  "vscode": {
   "interpreter": {
    "hash": "e0635e351b333c8cebd9e78289153bb748b5f74ce25bc0be7d23efd5b1ccd7b3"
   }
  }
 },
 "nbformat": 4,
 "nbformat_minor": 2
}

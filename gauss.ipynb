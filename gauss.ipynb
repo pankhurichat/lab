{
 "cells": [
  {
   "cell_type": "code",
   "execution_count": 8,
   "id": "fe4f2727",
   "metadata": {},
   "outputs": [],
   "source": [
    "import numpy as np"
   ]
  },
  {
   "cell_type": "code",
   "execution_count": null,
   "id": "07a3230a",
   "metadata": {},
   "outputs": [],
   "source": []
  },
  {
   "cell_type": "code",
   "execution_count": 24,
   "id": "b08b07f0",
   "metadata": {},
   "outputs": [
    {
     "name": "stdout",
     "output_type": "stream",
     "text": [
      "enter number of rows: 4\n",
      "enter number of columns: 5\n",
      "enter your elements: 1\n",
      "enter your elements: 2\n",
      "enter your elements: 1\n",
      "enter your elements: -1\n",
      "enter your elements: 5\n",
      "enter your elements: 3\n",
      "enter your elements: 2\n",
      "enter your elements: 4\n",
      "enter your elements: 4\n",
      "enter your elements: 16\n",
      "enter your elements: 4\n",
      "enter your elements: 4\n",
      "enter your elements: 3\n",
      "enter your elements: 4\n",
      "enter your elements: 22\n",
      "enter your elements: 2\n",
      "enter your elements: 0\n",
      "enter your elements: 1\n",
      "enter your elements: 5\n",
      "enter your elements: 15\n"
     ]
    }
   ],
   "source": [
    "r=int(input(\"enter number of rows: \"))\n",
    "c=int(input(\"enter number of columns: \"))\n",
    "matrix=[[int(input(\"enter your elements: \")) for c in range (c)] for r in range(r)]  "
   ]
  },
  {
   "cell_type": "code",
   "execution_count": null,
   "id": "dc7c1012",
   "metadata": {},
   "outputs": [],
   "source": []
  },
  {
   "cell_type": "code",
   "execution_count": 25,
   "id": "b0401e65",
   "metadata": {},
   "outputs": [
    {
     "name": "stdout",
     "output_type": "stream",
     "text": [
      "[[1, 2, 1, -1, 5], [3, 2, 4, 4, 16], [4, 4, 3, 4, 22], [2, 0, 1, 5, 15]]\n"
     ]
    }
   ],
   "source": [
    "print(matrix)"
   ]
  },
  {
   "cell_type": "code",
   "execution_count": null,
   "id": "dcc07579",
   "metadata": {},
   "outputs": [],
   "source": []
  },
  {
   "cell_type": "code",
   "execution_count": 26,
   "id": "8822e178",
   "metadata": {},
   "outputs": [],
   "source": [
    "for i in range(r):\n",
    "    if matrix[i][i]==0:\n",
    "        break\n",
    "    for j in range(i+1,r):\n",
    "        b=matrix[j][i]/matrix[i][i]\n",
    "        for k in range(0,r+1):\n",
    "            matrix[j][k]=matrix[j][k]-b*matrix[i][k]  "
   ]
  },
  {
   "cell_type": "code",
   "execution_count": 31,
   "id": "a22d926d",
   "metadata": {},
   "outputs": [
    {
     "name": "stdout",
     "output_type": "stream",
     "text": [
      "[[1, 2, 1, -1, 5], [0.0, -4.0, 1.0, 7.0, 1.0], [0.0, 0.0, -2.0, 1.0, 1.0], [0.0, 0.0, 0.0, -1.0, 3.0]]\n"
     ]
    }
   ],
   "source": [
    "print(matrix)"
   ]
  },
  {
   "cell_type": "code",
   "execution_count": 36,
   "id": "0ed76e8c",
   "metadata": {},
   "outputs": [],
   "source": [
    "x = np.zeros(r)"
   ]
  },
  {
   "cell_type": "code",
   "execution_count": 37,
   "id": "cac6d09e",
   "metadata": {},
   "outputs": [],
   "source": [
    "x[r-1] = matrix[r-1][r]/matrix[r-1][r-1]\n",
    "\n",
    "for i in range(r-2,-1,-1):\n",
    "    x[i] = matrix[i][r]\n",
    "    \n",
    "    for j in range(i+1,r):\n",
    "        x[i] = x[i] - matrix[i][j]*x[j]\n",
    "    \n",
    "    x[i] = x[i]/matrix[i][i]"
   ]
  },
  {
   "cell_type": "code",
   "execution_count": 35,
   "id": "bfa2c0e5",
   "metadata": {},
   "outputs": [
    {
     "name": "stdout",
     "output_type": "stream",
     "text": [
      "[16. -6. -2. -3.]\n"
     ]
    }
   ],
   "source": [
    "print(x)"
   ]
  },
  {
   "cell_type": "code",
   "execution_count": null,
   "id": "0da93c48",
   "metadata": {},
   "outputs": [],
   "source": []
  }
 ],
 "metadata": {
  "kernelspec": {
   "display_name": "Python 3 (ipykernel)",
   "language": "python",
   "name": "python3"
  },
  "language_info": {
   "codemirror_mode": {
    "name": "ipython",
    "version": 3
   },
   "file_extension": ".py",
   "mimetype": "text/x-python",
   "name": "python",
   "nbconvert_exporter": "python",
   "pygments_lexer": "ipython3",
   "version": "3.9.12"
  }
 },
 "nbformat": 4,
 "nbformat_minor": 5
}

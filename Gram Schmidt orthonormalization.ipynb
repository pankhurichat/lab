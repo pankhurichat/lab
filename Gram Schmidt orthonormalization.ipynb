{
 "cells": [
  {
   "cell_type": "code",
   "execution_count": 2,
   "id": "ac5dade5",
   "metadata": {},
   "outputs": [],
   "source": [
    "import math as m\n",
    "import numpy as np\n",
    "import matplotlib.pyplot as plt"
   ]
  },
  {
   "cell_type": "code",
   "execution_count": 3,
   "id": "549bdcad",
   "metadata": {},
   "outputs": [],
   "source": [
    "def innerproduct(u,v):\n",
    "    return np.dot(u,v)\n",
    "def Norm(v):\n",
    "    return ((innerproduct(v,v))**(1/2))\n",
    "def unitvector(v):\n",
    "    return v/Norm(v)"
   ]
  },
  {
   "cell_type": "markdown",
   "id": "819ef626",
   "metadata": {},
   "source": [
    "# Gram Schmidt \n",
    "\n",
    "$$\\vec{U_k} = \\vec{v_k} - (\\vec{v_k} . \\hat{u_1})\\hat{u_1} - (\\vec{v_k} . \\hat{u_2})\\hat{u_2} ------- -(\\vec{v_k} . \\hat{u}_{k-1})\\hat{u}_{k-1} $$\n",
    "$$\\hat{u}_k = \\frac{\\vec{U_k}}{||\\vec{U_k}||}$$"
   ]
  },
  {
   "cell_type": "code",
   "execution_count": 4,
   "id": "65408d6a",
   "metadata": {},
   "outputs": [],
   "source": [
    "def series(v,U):     \n",
    "    add=0\n",
    "    for i in range(0,len(U)):\n",
    "        add=add+(innerproduct(v,U[i]))*U[i]\n",
    "    return add"
   ]
  },
  {
   "cell_type": "code",
   "execution_count": 5,
   "id": "11091cbc",
   "metadata": {},
   "outputs": [],
   "source": [
    "def Gram_schmidt(V):      ## V is linearly independent set\n",
    "    n=len(V)              ## n is number of linear independent vectors\n",
    "    u1=unitvector(V[0])\n",
    "    U=[u1]\n",
    "    for i in range(1,n):\n",
    "        U2=V[i]-series(V[i],U)        ## U2 is orthogonal vector\n",
    "        u2=unitvector(U2)             ## u2 is orthonormal vector \n",
    "        U.append(u2)\n",
    "    return U          ## U is orthonormal set"
   ]
  },
  {
   "cell_type": "code",
   "execution_count": 9,
   "id": "9a91c084",
   "metadata": {},
   "outputs": [
    {
     "name": "stdout",
     "output_type": "stream",
     "text": [
      "[array([ 0.70710678,  0.        , -0.70710678]), array([-0.23570226,  0.94280904, -0.23570226]), array([0.66666667, 0.33333333, 0.66666667])]\n"
     ]
    }
   ],
   "source": [
    "#V=np.array([[1,0,-1],[-1,4,-1],[2,1,2]])\n",
    "V=[[1,0,-1],[-1,4,-1],[2,1,2]]\n",
    "U=Gram_schmidt(V)\n",
    "print(U)"
   ]
  }
 ],
 "metadata": {
  "kernelspec": {
   "display_name": "Python 3 (ipykernel)",
   "language": "python",
   "name": "python3"
  },
  "language_info": {
   "codemirror_mode": {
    "name": "ipython",
    "version": 3
   },
   "file_extension": ".py",
   "mimetype": "text/x-python",
   "name": "python",
   "nbconvert_exporter": "python",
   "pygments_lexer": "ipython3",
   "version": "3.9.12"
  }
 },
 "nbformat": 4,
 "nbformat_minor": 5
}

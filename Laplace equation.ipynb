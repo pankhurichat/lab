{
 "cells": [
  {
   "cell_type": "code",
   "execution_count": 1,
   "id": "b764d0be",
   "metadata": {},
   "outputs": [],
   "source": [
    "import math as m\n",
    "import numpy as np\n",
    "import matplotlib.pyplot as plt"
   ]
  },
  {
   "cell_type": "code",
   "execution_count": 8,
   "id": "a48bbbf1",
   "metadata": {
    "scrolled": true
   },
   "outputs": [
    {
     "data": {
      "text/plain": [
       "array([[100., 100., 100., ..., 100., 100., 100.],\n",
       "       [  0.,   0.,   0., ...,   0.,   0.,   0.],\n",
       "       [  0.,   0.,   0., ...,   0.,   0.,   0.],\n",
       "       ...,\n",
       "       [  0.,   0.,   0., ...,   0.,   0.,   0.],\n",
       "       [  0.,   0.,   0., ...,   0.,   0.,   0.],\n",
       "       [  0.,   0.,   0., ...,   0.,   0.,   0.]])"
      ]
     },
     "execution_count": 8,
     "metadata": {},
     "output_type": "execute_result"
    }
   ],
   "source": [
    "N=100\n",
    "U=np.zeros([N,N])\n",
    "\n",
    "for i in range(0,N):\n",
    "    U[0][i]=100.0\n",
    "U"
   ]
  },
  {
   "cell_type": "markdown",
   "id": "ee5b3ca7",
   "metadata": {},
   "source": [
    "# Using Gauss Jacobi method"
   ]
  },
  {
   "cell_type": "code",
   "execution_count": 3,
   "id": "95de2fc0",
   "metadata": {},
   "outputs": [
    {
     "name": "stdout",
     "output_type": "stream",
     "text": [
      "No. of iterations : 1897\n",
      "Error in potential : 0.009998358245198347\n"
     ]
    }
   ],
   "source": [
    "h=0.01\n",
    "precision=1.0\n",
    "iteration=0\n",
    "while (precision)>h:\n",
    "    iteration+=1                     \n",
    "    T=np.zeros([N,N])         \n",
    "    for i in range(0,N):\n",
    "        for j in range(0,N):\n",
    "            if i==0 or i==N-1 or j==0 or j==N-1:\n",
    "                T[i][j]=U[i][j]          #BC \n",
    "            else:\n",
    "                T[i][j]=(U[i+1][j]+U[i-1][j]+U[i][j+1]+U[i][j-1])/4   \n",
    "    precision=np.max(np.abs(T-U))\n",
    "    U=T   \n",
    "print(\"No. of iterations :\",iteration)\n",
    "print(\"Error in potential :\",precision)"
   ]
  },
  {
   "cell_type": "code",
   "execution_count": 4,
   "id": "7a14b5b1",
   "metadata": {
    "scrolled": true
   },
   "outputs": [
    {
     "data": {
      "text/plain": [
       "array([[1.00000000e+02, 1.00000000e+02, 1.00000000e+02, ...,\n",
       "        1.00000000e+02, 1.00000000e+02, 1.00000000e+02],\n",
       "       [0.00000000e+00, 4.99663928e+01, 6.96980749e+01, ...,\n",
       "        6.96980749e+01, 4.99663928e+01, 0.00000000e+00],\n",
       "       [0.00000000e+00, 3.01675663e+01, 4.98657110e+01, ...,\n",
       "        4.98657110e+01, 3.01675663e+01, 0.00000000e+00],\n",
       "       ...,\n",
       "       [0.00000000e+00, 1.68364012e-03, 3.36497536e-03, ...,\n",
       "        3.36497536e-03, 1.68364012e-03, 0.00000000e+00],\n",
       "       [0.00000000e+00, 8.37514187e-04, 1.67388410e-03, ...,\n",
       "        1.67388410e-03, 8.37514187e-04, 0.00000000e+00],\n",
       "       [0.00000000e+00, 0.00000000e+00, 0.00000000e+00, ...,\n",
       "        0.00000000e+00, 0.00000000e+00, 0.00000000e+00]])"
      ]
     },
     "execution_count": 4,
     "metadata": {},
     "output_type": "execute_result"
    }
   ],
   "source": [
    "T"
   ]
  },
  {
   "cell_type": "markdown",
   "id": "6e52aa0b",
   "metadata": {},
   "source": [
    "# Using Gauss Seidel"
   ]
  },
  {
   "cell_type": "code",
   "execution_count": 6,
   "id": "26c7983e",
   "metadata": {},
   "outputs": [],
   "source": [
    "# N=10\n",
    "# U=np.zeros([N,N])\n",
    "# for i in range(0,N):\n",
    "#     for j in range(0,N):\n",
    "#         if i==0:\n",
    "#             U[i][j]=100    \n",
    "# print(U)"
   ]
  },
  {
   "cell_type": "code",
   "execution_count": 7,
   "id": "28f689e0",
   "metadata": {},
   "outputs": [],
   "source": [
    "# h=0.01\n",
    "# precision=1.0\n",
    "# iteration=0\n",
    "# while (precision)>h:\n",
    "#     iteration+=1\n",
    "#     T=U\n",
    "#     for i in range(1,N-1):\n",
    "#         for j in range(1,N-1):          \n",
    "#             T[i][j]=(U[i+1][j]+U[i-1][j]+U[i][j+1]+U[i][j-1])/4\n",
    "#     precision=np.max(np.abs(T-U))\n",
    "# print(iteration)\n",
    "# print(T)"
   ]
  },
  {
   "cell_type": "code",
   "execution_count": 5,
   "id": "1db049b3",
   "metadata": {},
   "outputs": [],
   "source": [
    "# x=np.linspace(0,1,N)\n",
    "# y=np.linspace(0,1,N)\n",
    "# X,Y=np.meshgrid(x,y)\n",
    "# plt.contourf(X,Y,U)\n",
    "# plt.colorbar().set_label(\"Electric potential\")"
   ]
  },
  {
   "cell_type": "code",
   "execution_count": 5,
   "id": "c990de25",
   "metadata": {
    "scrolled": true
   },
   "outputs": [],
   "source": [
    "# X=np.linspace(0,1,N)\n",
    "# Y=np.linspace(0,1,N)\n",
    "  \n",
    "# plt.contourf(X,Y,U,levels=np.linspace(0,100,10))\n",
    "# plt.colorbar().set_label(\"Electric potential\")"
   ]
  },
  {
   "cell_type": "markdown",
   "id": "db599210",
   "metadata": {},
   "source": [
    "HEAT EQUATION"
   ]
  },
  {
   "cell_type": "code",
   "execution_count": 8,
   "id": "99f5927c",
   "metadata": {},
   "outputs": [
    {
     "data": {
      "text/plain": [
       "array([[100., 100., 100., ..., 100., 100., 100.],\n",
       "       [  0.,   0.,   0., ...,   0.,   0.,   0.],\n",
       "       [  0.,   0.,   0., ...,   0.,   0.,   0.],\n",
       "       ...,\n",
       "       [  0.,   0.,   0., ...,   0.,   0.,   0.],\n",
       "       [  0.,   0.,   0., ...,   0.,   0.,   0.],\n",
       "       [  0.,   0.,   0., ...,   0.,   0.,   0.]])"
      ]
     },
     "execution_count": 8,
     "metadata": {},
     "output_type": "execute_result"
    }
   ],
   "source": [
    "N=100\n",
    "U=np.zeros([N,N])\n",
    "for i in range(0,N):\n",
    "    U[0][i]=100.0\n",
    "U"
   ]
  },
  {
   "cell_type": "code",
   "execution_count": 20,
   "id": "12f1c273",
   "metadata": {},
   "outputs": [
    {
     "data": {
      "text/plain": [
       "array([[  0., 100., 100., ..., 100., 100.,   0.],\n",
       "       [  0.,   0.,   0., ...,   0.,   0.,   0.],\n",
       "       [  0.,   0.,   0., ...,   0.,   0.,   0.],\n",
       "       ...,\n",
       "       [  0.,   0.,   0., ...,   0.,   0.,   0.],\n",
       "       [  0.,   0.,   0., ...,   0.,   0.,   0.],\n",
       "       [  0.,   0.,   0., ...,   0.,   0.,   0.]])"
      ]
     },
     "execution_count": 20,
     "metadata": {},
     "output_type": "execute_result"
    }
   ],
   "source": [
    "N=100\n",
    "U=np.zeros([N,N])\n",
    "for i in range(0,N):\n",
    "    U[0][i]=100.0\n",
    "U[0][0]=0\n",
    "U[0][N-1]=0\n",
    "U"
   ]
  },
  {
   "cell_type": "code",
   "execution_count": 23,
   "id": "db7ef9c6",
   "metadata": {},
   "outputs": [
    {
     "name": "stdout",
     "output_type": "stream",
     "text": [
      "No. of iterations : 514\n"
     ]
    },
    {
     "name": "stderr",
     "output_type": "stream",
     "text": [
      "C:\\Users\\pankh\\AppData\\Local\\Temp\\ipykernel_36220\\2861867200.py:13: RuntimeWarning: overflow encountered in double_scalars\n",
      "  T[i][j+1]=(g*U[i-1][j]+(1-2*g)*U[i][j]+g*U[i][j+1]+U[i+1][j+1])\n",
      "C:\\Users\\pankh\\AppData\\Local\\Temp\\ipykernel_36220\\2861867200.py:13: RuntimeWarning: invalid value encountered in double_scalars\n",
      "  T[i][j+1]=(g*U[i-1][j]+(1-2*g)*U[i][j]+g*U[i][j+1]+U[i+1][j+1])\n",
      "C:\\Users\\pankh\\AppData\\Local\\Temp\\ipykernel_36220\\2861867200.py:14: RuntimeWarning: invalid value encountered in subtract\n",
      "  precision=np.max(np.abs(T-U))\n"
     ]
    }
   ],
   "source": [
    "h=0.01\n",
    "precision=1.0\n",
    "iteration=0\n",
    "g=2\n",
    "while (precision)>h:\n",
    "    iteration+=1                     \n",
    "    T=np.zeros([N,N])         \n",
    "    for i in range(0,N):\n",
    "        for j in range(0,N):\n",
    "            if i==0 or i==N-1 or j==0 or j==N-1:\n",
    "                T[i][j]=U[i][j]          \n",
    "            else:\n",
    "                T[i][j+1]=(g*U[i-1][j]+(1-2*g)*U[i][j]+g*U[i][j+1]+U[i+1][j+1])\n",
    "    precision=np.max(np.abs(T-U))\n",
    "    U=T   \n",
    "print(\"No. of iterations :\",iteration)"
   ]
  },
  {
   "cell_type": "code",
   "execution_count": 24,
   "id": "ce5d8dc8",
   "metadata": {},
   "outputs": [
    {
     "name": "stdout",
     "output_type": "stream",
     "text": [
      "[[ 0.00000000e+000  1.00000000e+002  1.00000000e+002 ...  1.00000000e+002\n",
      "   1.00000000e+002  0.00000000e+000]\n",
      " [ 0.00000000e+000  0.00000000e+000  1.60893695e+157 ... -1.58364173e+308\n",
      "               inf  0.00000000e+000]\n",
      " [ 0.00000000e+000  0.00000000e+000  0.00000000e+000 ... -1.06962167e+308\n",
      "              -inf  0.00000000e+000]\n",
      " ...\n",
      " [ 0.00000000e+000  0.00000000e+000  0.00000000e+000 ...  0.00000000e+000\n",
      "   1.97150697e+263  0.00000000e+000]\n",
      " [ 0.00000000e+000  0.00000000e+000  0.00000000e+000 ...  0.00000000e+000\n",
      "   0.00000000e+000  0.00000000e+000]\n",
      " [ 0.00000000e+000  0.00000000e+000  0.00000000e+000 ...  0.00000000e+000\n",
      "   0.00000000e+000  0.00000000e+000]]\n"
     ]
    }
   ],
   "source": [
    "print(U)"
   ]
  },
  {
   "cell_type": "code",
   "execution_count": 5,
   "id": "cb2c0353",
   "metadata": {},
   "outputs": [],
   "source": [
    "# N=100\n",
    "# U=np.full([N,N],7.0)\n",
    "# for i in range(0,N):\n",
    "#     for j in range(0,N):\n",
    "#         if i==0:\n",
    "#             U[i][j]=100.0 \n",
    "#         elif i==N-1 or j==0 or j==N-1:\n",
    "#             U[i][j]=0.0\n",
    "# U"
   ]
  },
  {
   "cell_type": "markdown",
   "id": "eb44bae0",
   "metadata": {},
   "source": [
    "Seidel"
   ]
  },
  {
   "cell_type": "code",
   "execution_count": 3,
   "id": "161aaf91",
   "metadata": {},
   "outputs": [
    {
     "name": "stdout",
     "output_type": "stream",
     "text": [
      "No. of iterations : 1451\n",
      "Error in potential : 0.009989454544509613\n"
     ]
    }
   ],
   "source": [
    "tolerance=0.01\n",
    "precision=1\n",
    "iteration=0\n",
    "while(precision>tolerance):\n",
    "    iteration+=1\n",
    "    T=np.array(U)\n",
    "    for i in range(1,N-1):\n",
    "        for j in range(1,N-1):\n",
    "            U[i][j]=(U[i+1][j]+U[i-1][j]+U[i][j+1]+U[i][j-1])/4\n",
    "    precision=np.max(np.abs(T-U))\n",
    "print(\"No. of iterations :\",iteration)\n",
    "print(\"Error in potential :\",precision)"
   ]
  },
  {
   "cell_type": "code",
   "execution_count": 4,
   "id": "a480a444",
   "metadata": {},
   "outputs": [
    {
     "data": {
      "text/plain": [
       "array([[1.00000000e+02, 1.00000000e+02, 1.00000000e+02, ...,\n",
       "        1.00000000e+02, 1.00000000e+02, 1.00000000e+02],\n",
       "       [0.00000000e+00, 4.99773040e+01, 6.97198997e+01, ...,\n",
       "        6.97210831e+01, 4.99779100e+01, 0.00000000e+00],\n",
       "       [0.00000000e+00, 3.01893745e+01, 4.99093321e+01, ...,\n",
       "        4.99116949e+01, 3.01905844e+01, 0.00000000e+00],\n",
       "       ...,\n",
       "       [0.00000000e+00, 6.97623917e-03, 1.39554114e-02, ...,\n",
       "        1.48900384e-02, 7.45473918e-03, 0.00000000e+00],\n",
       "       [0.00000000e+00, 3.48335149e-03, 6.96817405e-03, ...,\n",
       "        7.43531827e-03, 3.72251436e-03, 0.00000000e+00],\n",
       "       [0.00000000e+00, 0.00000000e+00, 0.00000000e+00, ...,\n",
       "        0.00000000e+00, 0.00000000e+00, 0.00000000e+00]])"
      ]
     },
     "execution_count": 4,
     "metadata": {},
     "output_type": "execute_result"
    }
   ],
   "source": [
    "T"
   ]
  }
 ],
 "metadata": {
  "kernelspec": {
   "display_name": "Python 3 (ipykernel)",
   "language": "python",
   "name": "python3"
  },
  "language_info": {
   "codemirror_mode": {
    "name": "ipython",
    "version": 3
   },
   "file_extension": ".py",
   "mimetype": "text/x-python",
   "name": "python",
   "nbconvert_exporter": "python",
   "pygments_lexer": "ipython3",
   "version": "3.9.12"
  }
 },
 "nbformat": 4,
 "nbformat_minor": 5
}
